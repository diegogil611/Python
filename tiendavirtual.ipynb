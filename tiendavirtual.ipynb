{
 "cells": [
  {
   "cell_type": "markdown",
   "metadata": {},
   "source": [
    "1.1. Crea un diccionario llamado `inventory` donde las claves sean nombres de\n",
    "productos (strings) y los valores sean diccionarios con el precio (float) y la cantidad en stock (int) de cada producto.\n",
    "1.2. Agrega al menos 5 productos al inventario con sus respectivos precios y\n",
    "cantidades.\n"
   ]
  },
  {
   "cell_type": "code",
   "execution_count": 3,
   "metadata": {},
   "outputs": [],
   "source": [
    "inventory = {\n",
    "    'arroz': {'precio': 4.20,'cantidad':16}, \n",
    "    'trigo': {'precio': 3.4,'cantidad':18},\n",
    "    'azucar': {'precio': 2.5,'cantidad':20},\n",
    "    'maiz': {'precio': 3.2,'cantidad':10},\n",
    "    'harina': {'precio': 2.6,'cantidad':30}\n",
    "    }\n"
   ]
  },
  {
   "cell_type": "markdown",
   "metadata": {},
   "source": [
    "2.1. Crea una función llamada `display_inventory` que muestre en pantalla el\n",
    "inventario de la tienda de forma legible."
   ]
  },
  {
   "cell_type": "code",
   "execution_count": 14,
   "metadata": {},
   "outputs": [
    {
     "name": "stdout",
     "output_type": "stream",
     "text": [
      "Inventario: ['arroz', 'trigo', 'azucar', 'maiz', 'harina']\n"
     ]
    }
   ],
   "source": [
    "def display_inventory():\n",
    "    invent = list(inventory.keys())\n",
    "    print(\"Inventario:\", invent)\n",
    "\n",
    "# Ejemplo de uso\n",
    "display_inventory()\n"
   ]
  },
  {
   "cell_type": "markdown",
   "metadata": {},
   "source": [
    "2.2. Crea una función llamada `purchase_product` que solicite al usuario el\n",
    "nombre del producto que desea comprar y la cantidad.\n",
    "2.3. Si el producto está disponible en inventario y hay suficiente cantidad,\n",
    "muestra el precio total y actualiza la cantidad en inventario.\n",
    "2.4. Si el producto no está disponible o no hay suficiente cantidad, muestra un\n",
    "mensaje adecuado."
   ]
  },
  {
   "cell_type": "code",
   "execution_count": 6,
   "metadata": {},
   "outputs": [],
   "source": [
    "def purchase_product():\n",
    "    while True:\n",
    "        # Solicitar al usuario el nombre del producto y la cantidad\n",
    "        producto = input(\"Ingrese el nombre del producto que desea comprar (o 'salir' para terminar): \")\n",
    "        \n",
    "        # Verificar si el usuario desea salir\n",
    "        if producto.lower() == 'salir':\n",
    "            break\n",
    "        \n",
    "        # Verificar si el producto está en el inventario\n",
    "        if producto in inventory:\n",
    "            # Verificar si hay suficiente cantidad en el inventario\n",
    "            cantidad = int(input(\"Ingrese la cantidad que desea comprar: \"))\n",
    "            \n",
    "            if inventory[producto]['cantidad'] >= cantidad:\n",
    "                # Calcular el precio total\n",
    "                precio = cantidad * inventory[producto]['precio']\n",
    "                \n",
    "                # Mostrar el precio total\n",
    "                print(f\"El precio total es: ${precio}\")\n",
    "\n",
    "                # Actualizar la cantidad en inventario\n",
    "                inventory[producto]['cantidad'] -= cantidad\n",
    "            else:\n",
    "                print(\"No hay suficiente cantidad en inventario.\")\n",
    "        else:\n",
    "            print(\"El producto no está disponible en inventario.\")\n",
    "\n",
    "# Ejecutar la función de compra\n",
    "purchase_product()\n"
   ]
  },
  {
   "cell_type": "markdown",
   "metadata": {},
   "source": [
    "3.1. Crea una función llamada `generate_sales_report` que calcule y muestre por\n",
    "pantalla un informe de ventas.\n",
    "3.2. El informe debe incluir el nombre de cada producto, la cantidad total\n",
    "vendida y los ingresos totales generados por cada producto.\n",
    "3.3. Calcula también el ingreso total de la tienda."
   ]
  },
  {
   "cell_type": "code",
   "execution_count": 1,
   "metadata": {},
   "outputs": [
    {
     "name": "stdout",
     "output_type": "stream",
     "text": [
      "Diccionario de Ventas: {}\n",
      "Total de ventas: $0\n"
     ]
    }
   ],
   "source": [
    "# Diccionario para almacenar las ventas\n",
    "ventas = {}\n",
    "\n",
    "def generate_sales_report():\n",
    "    total_ventas = 0  # Inicializamos la variable para almacenar la suma de los precios\n",
    "\n",
    "    # Solicitar al usuario el nombre del producto y la cantidad\n",
    "    producto = input(\"Ingrese el nombre del producto que compraron (o 'salir' para terminar): \")\n",
    "\n",
    "    while producto.lower() != 'salir':\n",
    "        if producto in inventory:\n",
    "            # Verificar si hay suficiente cantidad en el inventario\n",
    "            cantidad = int(input(\"Ingrese la cantidad que fue adquirida por el cliente: \"))\n",
    "            if inventory[producto]['cantidad'] >= cantidad:\n",
    "                # Calcular el precio total\n",
    "                precio = cantidad * inventory[producto]['precio']\n",
    "\n",
    "                # Registrar la venta en el diccionario de ventas\n",
    "                if producto in ventas:\n",
    "                    ventas[producto]['cantidad'] += cantidad\n",
    "                    ventas[producto]['ingresos'] += precio\n",
    "                else:\n",
    "                    ventas[producto] = {'cantidad': cantidad, 'ingresos': precio}\n",
    "                    \n",
    "                # Actualizar la cantidad en el inventario\n",
    "                inventory[producto]['cantidad'] -= cantidad\n",
    "\n",
    "                # Sumar al total de ventas\n",
    "                total_ventas += precio \n",
    "\n",
    "                # Informe de ventas\n",
    "                print(f\"Venta registrada: Producto: {producto}, Cantidad: {cantidad}, Ingresos: ${precio}\")\n",
    "            \n",
    "            else:\n",
    "                print(\"No hay suficiente cantidad en inventario.\")\n",
    "        else:\n",
    "            print(\"El producto no se encontró en inventario.\")\n",
    "\n",
    "        # Solicitar el siguiente producto o 'salir'\n",
    "        producto = input(\"Ingrese el nombre del siguiente producto que compraron (o 'salir' para terminar): \")\n",
    "\n",
    "    # Imprimir el diccionario de ventas después de todas las ventas\n",
    "    print(\"Diccionario de Ventas:\", ventas)\n",
    "\n",
    "    # Imprimir el total de ventas\n",
    "    print(\"Total de ventas: ${}\".format(total_ventas))\n",
    "\n",
    "# Ejemplo de uso\n",
    "generate_sales_report()\n"
   ]
  },
  {
   "cell_type": "markdown",
   "metadata": {},
   "source": [
    "4.1. Crea un bucle que muestre un menú de opciones al usuario: mostrar\n",
    "inventario, comprar producto, generar informe o salir.\n",
    "4.2. Implementa las opciones del menú llamando a las funciones correspondientes."
   ]
  },
  {
   "cell_type": "code",
   "execution_count": 15,
   "metadata": {},
   "outputs": [
    {
     "name": "stdout",
     "output_type": "stream",
     "text": [
      "Inventario: ['arroz', 'trigo', 'azucar', 'maiz', 'harina']\n",
      "Inventario\n",
      "Usted ha salido del programa\n"
     ]
    }
   ],
   "source": [
    "def tienda_virtual():\n",
    "    while True:\n",
    "        # Opción a elegir por el usuario\n",
    "        opcion = input(\"Escoja su opción ('1. mostrar inventario') ('2. comprar producto') ('3. generar informe') ('4. salir'): \")\n",
    "\n",
    "        # Para seleccionar la opción, usamos loops\n",
    "        if opcion == '1':\n",
    "            display_inventory()\n",
    "        \n",
    "        elif opcion == '2':\n",
    "            purchase_product()\n",
    "            print(\"Productos comprados\")\n",
    "            \n",
    "        elif opcion == '3':\n",
    "            generate_sales_report()\n",
    "            print(\"Informe de venta\")\n",
    "            \n",
    "        elif opcion == '4':\n",
    "            print(\"Usted ha salido del programa\")\n",
    "            break\n",
    "        \n",
    "        else:\n",
    "            print(\"Opción no válida, por favor, seleccione otra opción\")\n",
    "\n",
    "# Ejecutar la función de la tienda virtual\n",
    "tienda_virtual()\n"
   ]
  }
 ],
 "metadata": {
  "kernelspec": {
   "display_name": "Python 3",
   "language": "python",
   "name": "python3"
  },
  "language_info": {
   "codemirror_mode": {
    "name": "ipython",
    "version": 3
   },
   "file_extension": ".py",
   "mimetype": "text/x-python",
   "name": "python",
   "nbconvert_exporter": "python",
   "pygments_lexer": "ipython3",
   "version": "3.9.13"
  }
 },
 "nbformat": 4,
 "nbformat_minor": 2
}
