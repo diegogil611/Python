{
 "cells": [
  {
   "cell_type": "markdown",
   "metadata": {},
   "source": [
    "# **EXPLORATORY DATA ANALYSIS (EDA)**"
   ]
  },
  {
   "cell_type": "markdown",
   "metadata": {},
   "source": [
    "Importamos librerías para el trabajo"
   ]
  },
  {
   "cell_type": "code",
   "execution_count": null,
   "metadata": {},
   "outputs": [],
   "source": [
    "import pandas as pd\n",
    "import numpy as np\n",
    "import seaborn as sns\n",
    "import matplotlib.pyplot as plt\n",
    "import warnings\n",
    "warnings.filterwarnings(\"ignore\")"
   ]
  },
  {
   "cell_type": "code",
   "execution_count": null,
   "metadata": {},
   "outputs": [],
   "source": [
    "diabetes_df = pd.read_csv('../data/raw/diabetes.csv')"
   ]
  },
  {
   "cell_type": "code",
   "execution_count": null,
   "metadata": {},
   "outputs": [],
   "source": [
    "diabetes_df.head()"
   ]
  },
  {
   "cell_type": "code",
   "execution_count": null,
   "metadata": {},
   "outputs": [],
   "source": [
    "print(\"Número de filas y columnas presentes en el dataframe: \", diabetes_df.shape)"
   ]
  },
  {
   "cell_type": "code",
   "execution_count": null,
   "metadata": {},
   "outputs": [],
   "source": [
    "diabetes_df.info()"
   ]
  },
  {
   "cell_type": "code",
   "execution_count": null,
   "metadata": {},
   "outputs": [],
   "source": [
    "diabetes_df.describe().T"
   ]
  },
  {
   "cell_type": "code",
   "execution_count": null,
   "metadata": {},
   "outputs": [],
   "source": [
    "sns.set_theme(style=\"whitegrid\")\n",
    "\n",
    "# Crear el gráfico countplot\n",
    "plt.figure(figsize=(6, 4))\n",
    "sns.countplot(x='Outcome', data=diabetes_df)\n",
    "\n",
    "plt.xlabel('Padecimiento de diabétes')\n",
    "plt.show()"
   ]
  },
  {
   "cell_type": "code",
   "execution_count": null,
   "metadata": {},
   "outputs": [],
   "source": [
    "sns.set_theme(style=\"whitegrid\")\n",
    "\n",
    "# Crear el gráfico countplot\n",
    "plt.figure(figsize=(6, 4))\n",
    "ax = sns.countplot(x='Outcome', data=diabetes_df)\n",
    "\n",
    "# Agregar el valor y el porcentaje en paréntesis en cada barra\n",
    "total = len(diabetes_df)\n",
    "for p in ax.patches:\n",
    "    height = p.get_height()\n",
    "    percentage = (height / total) * 100\n",
    "    ax.annotate(f'{height} ({percentage:.1f}%)', (p.get_x() + p.get_width() / 2., height),\n",
    "                ha='center', va='bottom', fontsize=12)\n",
    "\n",
    "plt.xlabel('Padecimiento de diabétes')\n",
    "plt.show()"
   ]
  },
  {
   "cell_type": "code",
   "execution_count": null,
   "metadata": {},
   "outputs": [],
   "source": [
    "diabetes_df['Outcome'].value_counts()"
   ]
  },
  {
   "cell_type": "markdown",
   "metadata": {},
   "source": [
    "Creamos el array de características (features) y target"
   ]
  },
  {
   "cell_type": "code",
   "execution_count": null,
   "metadata": {},
   "outputs": [],
   "source": [
    "X = diabetes_df.drop('Glucose', axis=1).values\n",
    "y = diabetes_df['Glucose'].values\n",
    "\n",
    "print(y.shape, X.shape)"
   ]
  },
  {
   "cell_type": "markdown",
   "metadata": {},
   "source": [
    "#### **Valores nulos**"
   ]
  },
  {
   "cell_type": "code",
   "execution_count": null,
   "metadata": {},
   "outputs": [],
   "source": [
    "\n",
    "# ! NO MODIFICAR\n",
    "# * Función creada para contar el porcentaje de missings existente por cada variable\n",
    "\n",
    "def msv_1(data, thresh = 20, color = 'black', edgecolor = 'black', height = 3, width = 15):\n",
    "    \n",
    "    plt.figure(figsize = (width, height))\n",
    "    percentage = (data.isnull().mean()) * 100\n",
    "    percentage.sort_values(ascending = False).plot.bar(color = color, edgecolor = edgecolor)\n",
    "    plt.axhline(y = thresh, color = 'r', linestyle = '-')\n",
    "    \n",
    "    plt.title('Porcentaje de missing values por columna', fontsize=20, weight='bold' , y=1.1)\n",
    "    \n",
    "    plt.text(len(data.isnull().sum()/len(data))/1.7, thresh+2.5, f'Columns con más de {thresh}% missing values', fontsize=12, color='crimson',\n",
    "         ha='left' ,va='top')\n",
    "    plt.text(len(data.isnull().sum()/len(data))/1.7, thresh - 0.5, f'Columnas con menos de {thresh}% missing values', fontsize=12, color='green',\n",
    "         ha='left' ,va='top')\n",
    "    plt.xlabel('Columnas', size=15, weight='bold')\n",
    "    plt.ylabel('Porcentaje de missing values')\n",
    "    plt.yticks(weight ='bold')\n",
    "    \n",
    "    return plt.show()"
   ]
  },
  {
   "cell_type": "code",
   "execution_count": null,
   "metadata": {},
   "outputs": [],
   "source": [
    "msv_1(diabetes_df, 20, color=sns.color_palette('Reds',15))"
   ]
  },
  {
   "cell_type": "markdown",
   "metadata": {},
   "source": [
    "Pero en esta base de datos en particular nos podemos cuestionar lo siguiente: ¿Es posible tener valores cero para indicadores como glucosa? Suponiendo que la respuesta es que no, los valores cero deberíamos de considerarlo como Missing Data y suprimirlos de nuestro dataset."
   ]
  },
  {
   "cell_type": "code",
   "execution_count": null,
   "metadata": {},
   "outputs": [],
   "source": [
    "# Reemplazamos con missings aquellos valores cero para indicacdores de salud\n",
    "diabetes_df[['Glucose', 'BloodPressure', 'SkinThickness', 'Insulin', 'BMI']] = diabetes_df[['Glucose', 'BloodPressure', 'SkinThickness', 'Insulin', 'BMI']].replace(0, np.nan)"
   ]
  },
  {
   "cell_type": "code",
   "execution_count": null,
   "metadata": {},
   "outputs": [],
   "source": [
    "msv_1(diabetes_df, 20, color=sns.color_palette('Reds',15))"
   ]
  },
  {
   "cell_type": "markdown",
   "metadata": {},
   "source": [
    "Ahora observamos que varias de nuestras características (features) tenían valores cero. Vamos a considerar entonces estos valores cero como missing data y suprimirlos de nuestro dataset."
   ]
  },
  {
   "cell_type": "markdown",
   "metadata": {},
   "source": [
    "#### **Exploratory Data Analysis (EDA)**"
   ]
  },
  {
   "cell_type": "markdown",
   "metadata": {},
   "source": [
    "En esta sección, haremos un análisis de datos exploratorio básico para tener una \"sensación\" de los datos, verificaremos las distribuciones, las correlaciones, etc. de las diferentes columnas e intentaremos eliminar los valores nulos presentes."
   ]
  },
  {
   "cell_type": "code",
   "execution_count": null,
   "metadata": {},
   "outputs": [],
   "source": [
    "# Crear una figura con 4 filas y 2 columnas de subgráficos, con un tamaño de 15x10 pulgadas\n",
    "fig, axes = plt.subplots(4, 2, figsize=(15, 10))\n",
    "# Aplanar la matriz de subgráficos para facilitar el acceso\n",
    "axes = axes.flatten()\n",
    "# Inicializar un índice para recorrer las columnas del DataFrame\n",
    "ax_idx = 0\n",
    "# Obtener las columnas del DataFrame, excluyendo la columna 'Outcome'\n",
    "columns = diabetes_df.drop('Outcome', axis=1).columns\n",
    "# Iterar a través de las columnas y crear histogramas en cada subgráfico\n",
    "for col in columns:\n",
    "    # Crear un histograma para la columna actual en el subgráfico correspondiente\n",
    "    diabetes_df[col].plot(kind='hist', ax=axes[ax_idx], title=col)\n",
    "    # Incrementar el índice para pasar al siguiente subgráfico\n",
    "    ax_idx += 1\n",
    "# Agregar un título general para los subgráficos\n",
    "plt.suptitle('Histograma de feature variables')\n",
    "# Ajustar automáticamente la disposición de los subgráficos para evitar superposiciones\n",
    "plt.tight_layout()\n",
    "# Mostrar los subgráficos\n",
    "plt.show()"
   ]
  },
  {
   "cell_type": "markdown",
   "metadata": {},
   "source": [
    "Vamos a tomar un criterio en específico para llenar los valores missings. Si nuestra distribución se encuentra muy sesgada hacia un lado usaremos la mediana, mientras que si tiene una distribución más normal usaremos la media."
   ]
  },
  {
   "cell_type": "markdown",
   "metadata": {},
   "source": [
    "Comprobemos la asimetría (Skewness ) de cada una de las columnas. La asimetría se refiere a la cantidad de asimetría en una característica dada o, en otras palabras, a la cantidad de distorsiones de la distribución normal. El pico del histograma representa la moda."
   ]
  },
  {
   "cell_type": "code",
   "execution_count": null,
   "metadata": {},
   "outputs": [],
   "source": [
    "from scipy.stats import skew\n",
    "\n",
    "for col in diabetes_df.drop('Outcome', axis = 1).columns:\n",
    "    print(\"Skewness for the column {} is {}\".format(col, diabetes_df[col].skew()))"
   ]
  },
  {
   "cell_type": "markdown",
   "metadata": {},
   "source": [
    "Completamos los valores missings:"
   ]
  },
  {
   "cell_type": "code",
   "execution_count": null,
   "metadata": {},
   "outputs": [],
   "source": [
    "diabetes_df['Insulin'] = diabetes_df['Insulin'].fillna(diabetes_df['Insulin'].median()) # Completamos valores nulos con la mediana\n",
    "\n",
    "for col in ['Glucose', 'BloodPressure', 'SkinThickness', 'BMI']:\n",
    "    diabetes_df[col] = diabetes_df[col].fillna(diabetes_df[col].mean())"
   ]
  },
  {
   "cell_type": "code",
   "execution_count": null,
   "metadata": {},
   "outputs": [],
   "source": [
    "diabetes_df"
   ]
  },
  {
   "cell_type": "code",
   "execution_count": null,
   "metadata": {},
   "outputs": [],
   "source": [
    "diabetes_df.to_excel(\"../data/final/diabetes_final.xlsx\")"
   ]
  },
  {
   "cell_type": "markdown",
   "metadata": {},
   "source": [
    "Visualizamos cómo nos queda el gráfico de reporte luego del ajuste:"
   ]
  },
  {
   "cell_type": "code",
   "execution_count": null,
   "metadata": {},
   "outputs": [],
   "source": [
    "msv_1(diabetes_df, 20, color=sns.color_palette('Greens',15))"
   ]
  },
  {
   "cell_type": "code",
   "execution_count": null,
   "metadata": {},
   "outputs": [],
   "source": [
    "diabetes_df.isnull().sum()"
   ]
  },
  {
   "cell_type": "markdown",
   "metadata": {},
   "source": [
    "Todos los valores nulos fueron tratados ahora."
   ]
  },
  {
   "cell_type": "code",
   "execution_count": null,
   "metadata": {},
   "outputs": [],
   "source": [
    "def mean_target(var):\n",
    "    \"\"\"\n",
    "    Una función que devolverá los valores medios para la columna 'var' dependiendo de si la persona\n",
    "    es diabético o no\n",
    "    \"\"\"\n",
    "    return pd.DataFrame(diabetes_df.groupby('Outcome').mean()[var])"
   ]
  },
  {
   "cell_type": "code",
   "execution_count": null,
   "metadata": {},
   "outputs": [],
   "source": [
    "def distplot(col_name):\n",
    "    \"\"\"\n",
    "    Una función que trazará la distribución de la columna 'col_name' para personas diabéticas y no diabéticas por separado.\n",
    "    \"\"\"\n",
    "    # Crear una nueva figura para el gráfico de distribución.\n",
    "    plt.figure() \n",
    "    # Trazar la distribución de 'col_name' para personas con diabetes en rojo.\n",
    "    ax = sns.distplot(diabetes_df[col_name][diabetes_df.Outcome == 1], color=\"red\", rug=True) \n",
    "    # Trazar la distribución de 'col_name' para personas sin diabetes en azul claro.\n",
    "    sns.distplot(diabetes_df[col_name][diabetes_df.Outcome == 0], color=\"pink\", rug=True)   \n",
    "    # Agregar una leyenda para indicar las categorías en el gráfico.\n",
    "    plt.legend(['Diabetes', 'No Diabetes'])"
   ]
  },
  {
   "cell_type": "markdown",
   "metadata": {},
   "source": [
    "**Embarazos (Pregnancies)**"
   ]
  },
  {
   "cell_type": "code",
   "execution_count": null,
   "metadata": {},
   "outputs": [],
   "source": [
    "distplot('Pregnancies')"
   ]
  },
  {
   "cell_type": "code",
   "execution_count": null,
   "metadata": {},
   "outputs": [],
   "source": [
    "mean_target('Pregnancies')"
   ]
  },
  {
   "cell_type": "markdown",
   "metadata": {},
   "source": [
    "Podemos observar que el número de embarazos es elevado para las personas diabéticas."
   ]
  },
  {
   "cell_type": "markdown",
   "metadata": {},
   "source": [
    "**Insulina (Insulin)**"
   ]
  },
  {
   "cell_type": "code",
   "execution_count": null,
   "metadata": {},
   "outputs": [],
   "source": [
    "distplot('Insulin')"
   ]
  },
  {
   "cell_type": "code",
   "execution_count": null,
   "metadata": {},
   "outputs": [],
   "source": [
    "mean_target('Insulin')"
   ]
  },
  {
   "cell_type": "markdown",
   "metadata": {},
   "source": [
    "Las personas diabéticas tienden a tener más niveles de insulina."
   ]
  },
  {
   "cell_type": "markdown",
   "metadata": {},
   "source": [
    "**Presión Arterial (BloodPressure)**"
   ]
  },
  {
   "cell_type": "code",
   "execution_count": null,
   "metadata": {},
   "outputs": [],
   "source": [
    "distplot('BloodPressure')"
   ]
  },
  {
   "cell_type": "code",
   "execution_count": null,
   "metadata": {},
   "outputs": [],
   "source": [
    "mean_target('BloodPressure')"
   ]
  },
  {
   "cell_type": "markdown",
   "metadata": {},
   "source": [
    "La media de la presión arterial es mayor en las personas diabéticas que en las personas no diabéticas."
   ]
  },
  {
   "cell_type": "markdown",
   "metadata": {},
   "source": [
    "**Glucosa (Glucose)**"
   ]
  },
  {
   "cell_type": "code",
   "execution_count": null,
   "metadata": {},
   "outputs": [],
   "source": [
    "distplot('Glucose')"
   ]
  },
  {
   "cell_type": "code",
   "execution_count": null,
   "metadata": {},
   "outputs": [],
   "source": [
    "mean_target('Glucose')"
   ]
  },
  {
   "cell_type": "markdown",
   "metadata": {},
   "source": [
    "Las personas diabéticas tienden a tener niveles de glucosa mucho más altos."
   ]
  },
  {
   "cell_type": "markdown",
   "metadata": {},
   "source": [
    "#### **Boxplots y su análisis**"
   ]
  },
  {
   "cell_type": "markdown",
   "metadata": {},
   "source": [
    "Los boxplots (también conocidos como diagramas de caja y bigotes) son una herramienta gráfica utilizada en estadísticas y análisis de datos para visualizar la distribución y resumir estadísticas clave de un conjunto de datos numéricos. Sirven para proporcionar una comprensión rápida y efectiva de la distribución de los datos y para identificar posibles valores atípicos (outliers). Aquí están las principales utilidades de los boxplots:"
   ]
  },
  {
   "cell_type": "code",
   "execution_count": null,
   "metadata": {},
   "outputs": [],
   "source": [
    "sns.boxplot(x = 'Outcome', y = 'Age', data = diabetes_df)\n",
    "plt.title('Edad vs Outcome')\n",
    "plt.show()"
   ]
  },
  {
   "cell_type": "markdown",
   "metadata": {},
   "source": [
    "Podemos observar en este caso que la mediana de las personas con diabétes es mayor que la de las personas sin diabétes. ¿Nos hace sentido?"
   ]
  },
  {
   "cell_type": "code",
   "execution_count": null,
   "metadata": {},
   "outputs": [],
   "source": [
    "sns.boxplot(x = 'Outcome', y = 'BloodPressure', data = diabetes_df, palette = 'Blues')\n",
    "plt.title('Presión arterial vs Outcome')\n",
    "plt.show()"
   ]
  },
  {
   "cell_type": "markdown",
   "metadata": {},
   "source": [
    "La mediana de la presión arterial de las personas diabéticas se sitúa cerca del percentil 75 de las personas no diabéticas. E\n",
    "n promedio, las personas con diabetes tienden a tener niveles de presión arterial más altos que el 75% de las personas sin diabetes "
   ]
  },
  {
   "cell_type": "code",
   "execution_count": null,
   "metadata": {},
   "outputs": [],
   "source": [
    "sns.jointplot(x='Age',y='BloodPressure', data=diabetes_df, kind = 'reg', color = 'green')"
   ]
  },
  {
   "cell_type": "markdown",
   "metadata": {},
   "source": [
    "A medida que aumenta la edad, generalmente la presión arterial también aumenta."
   ]
  },
  {
   "cell_type": "code",
   "execution_count": null,
   "metadata": {},
   "outputs": [],
   "source": [
    "my_pal = {0: \"lightgreen\", 1: \"lightblue\"}\n",
    "sns.boxplot(x = 'Outcome', y = 'DiabetesPedigreeFunction', data = diabetes_df, palette = my_pal)\n",
    "plt.title('DPF vs Outcome')\n",
    "plt.show()"
   ]
  },
  {
   "cell_type": "markdown",
   "metadata": {},
   "source": [
    "Una gran proporción de personas que tienen un DPF alto no acaban teniendo diabetes. Pero normalmente las personas diabéticas tienen un valor de DPF cercano a 0,5 (percentil 50)."
   ]
  },
  {
   "cell_type": "code",
   "execution_count": null,
   "metadata": {},
   "outputs": [],
   "source": [
    "my_pal = {0: \"lightgrey\", 1: \"lightyellow\"}\n",
    "sns.boxplot(x = 'Outcome', y = 'Glucose', data = diabetes_df, palette = my_pal)\n",
    "plt.title('Glucosa vs Outcome')\n",
    "plt.show()"
   ]
  },
  {
   "cell_type": "markdown",
   "metadata": {},
   "source": [
    "La mediana del nivel de glucosa de las personas diabéticas es mayor que el percentil 75 del nivel de glucosa de las personas no diabéticas. Por lo tanto, tener un nivel alto de glucosa sí aumenta las posibilidades de tener diabetes."
   ]
  },
  {
   "cell_type": "code",
   "execution_count": null,
   "metadata": {},
   "outputs": [],
   "source": [
    "sns.jointplot(x='Insulin',y='Glucose', data=diabetes_df, kind = 'reg', color = 'red')\n",
    "plt.show()"
   ]
  },
  {
   "cell_type": "markdown",
   "metadata": {},
   "source": [
    "Podemos ver que a medida que aumenta el nivel de insulina, también aumenta el nivel de Glucosa."
   ]
  },
  {
   "cell_type": "code",
   "execution_count": null,
   "metadata": {},
   "outputs": [],
   "source": [
    "sns.boxplot(x = 'Outcome', y = 'Insulin', data = diabetes_df)\n",
    "plt.title('Insulina vs Outcome')\n",
    "plt.show()"
   ]
  },
  {
   "cell_type": "code",
   "execution_count": null,
   "metadata": {},
   "outputs": [],
   "source": [
    "my_pal = {0: \"lightyellow\", 1: \"lightpink\"}\n",
    "sns.boxplot(x = 'Outcome', y = 'BMI', data = diabetes_df, palette = my_pal)\n",
    "plt.title('IMC vs Outcome')\n",
    "plt.show()"
   ]
  },
  {
   "cell_type": "markdown",
   "metadata": {},
   "source": [
    "El IMC medio de las personas diabéticas es mayor que el IMC medio de las personas no diabéticas."
   ]
  },
  {
   "cell_type": "markdown",
   "metadata": {},
   "source": [
    "#### **Matriz de correlación**"
   ]
  },
  {
   "cell_type": "code",
   "execution_count": null,
   "metadata": {},
   "outputs": [],
   "source": [
    "# Calcula la matriz de correlación entre las columnas del DataFrame.\n",
    "corr = diabetes_df.corr()\n",
    "# Crea una máscara triangular superior en la matriz de correlación para ocultar los valores duplicados.\n",
    "mask = np.triu(np.ones_like(corr, dtype=bool))\n",
    "# Crea una figura para el gráfico de calor de la matriz de correlación.\n",
    "f, ax = plt.subplots(figsize=(11, 9))\n",
    "# Define una paleta de colores divergentes para el gráfico de calor.\n",
    "cmap = sns.diverging_palette(230, 20, as_cmap=True)\n",
    "# Trazar un mapa de calor de la matriz de correlación.\n",
    "sns.heatmap(corr, mask=mask, cmap=cmap, vmax=1.0, center=0,\n",
    "            square=True, linewidths=.5, cbar_kws={\"shrink\": .5}, annot=True)"
   ]
  },
  {
   "cell_type": "markdown",
   "metadata": {},
   "source": [
    "En el mapa de calor anterior, podemos observar que todas las características están débilmente correlacionadas, por lo que elimina la multicolinealidad de la ecuación. La multicolinealidad (también colinealidad) es un fenómeno en el que una variable predictiva en un modelo de regresión múltiple se puede predecir linealmente a partir de las demás con un grado sustancial de precisión. Los modelos como la regresión logística suponen la presencia de no colinealidad entre las características; si hay multicolinealidad, puede provocar un mal rendimiento de dichos modelos."
   ]
  }
 ],
 "metadata": {
  "kernelspec": {
   "display_name": "Python 3",
   "language": "python",
   "name": "python3"
  },
  "language_info": {
   "codemirror_mode": {
    "name": "ipython",
    "version": 3
   },
   "file_extension": ".py",
   "mimetype": "text/x-python",
   "name": "python",
   "nbconvert_exporter": "python",
   "pygments_lexer": "ipython3",
   "version": "3.9.13"
  },
  "orig_nbformat": 4
 },
 "nbformat": 4,
 "nbformat_minor": 2
}
