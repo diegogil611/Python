{
 "cells": [
  {
   "cell_type": "markdown",
   "metadata": {},
   "source": [
    "# **<span style=\"color:Green\">Aprendizaje supervisado</span>**"
   ]
  },
  {
   "cell_type": "markdown",
   "metadata": {},
   "source": [
    "Antes de usar el aprendizaje supervisado necesitamos:\n",
    "\n",
    "- Data sin missings values\n",
    "- Data en formato numérico\n",
    "- Data guardada en un pandas DataFrame o NumPy arrar.\n",
    "\n",
    "Para luego realizar un análisis de datos exploratorio (Exploratory Data Analysis, EDA)"
   ]
  },
  {
   "cell_type": "markdown",
   "metadata": {},
   "source": [
    "**Scikit-learn** es una biblioteca de software gratuito de aprendizaje automático para el lenguaje de programación Python. Sigue la siguiente sintaxis:\n",
    "\n",
    "        from sklearn.module import Model\n",
    "        model = Model()\n",
    "        model.fit(X, y)\n",
    "        predictions = model.predict(X_new)\n",
    "        print(predictions)"
   ]
  },
  {
   "cell_type": "markdown",
   "metadata": {},
   "source": [
    "## **Clasificación**"
   ]
  },
  {
   "cell_type": "markdown",
   "metadata": {},
   "source": [
    "Seguimos una serie de pasos:\n",
    "\n",
    "1. Construir un modelo\n",
    "2. El modelo aprende de la data etiquetada (data de entrenamiento)\n",
    "3. Introducimos en el modelo data sin etiqueta\n",
    "4. El modelo predice las etiquetas de la data no vista"
   ]
  },
  {
   "cell_type": "markdown",
   "metadata": {},
   "source": [
    "### **K-Nearest Neighbors**"
   ]
  },
  {
   "cell_type": "markdown",
   "metadata": {},
   "source": [
    "Predecir la etiqueta de un punto de datos mediante:\n",
    "- Mirando los k puntos de datos etiquetados más cercanos\n",
    "- Tomar una votación mayoritaria"
   ]
  },
  {
   "cell_type": "markdown",
   "metadata": {},
   "source": [
    "Veamos un ejemplo:"
   ]
  },
  {
   "cell_type": "markdown",
   "metadata": {},
   "source": [
    "1. Tenemos una serie de observaciones\n",
    "![Alt text](image.png)\n",
    "2. Si queremos clasificar el punto amarillo y tomamos los dos vecinos más cercanos la clasificaicón que tomará será verde.\n",
    "![Alt text](image-1.png)\n",
    "3. Pero si tomamos los 10 vecinos más cercanos, la clasificaicón será azul.\n",
    "![Alt text](image-2.png)"
   ]
  },
  {
   "cell_type": "code",
   "execution_count": 58,
   "metadata": {},
   "outputs": [],
   "source": [
    "\n",
    "# * Importamos librerías usuales para el trabajo\n",
    "\n",
    "import pandas as pd\n",
    "import numpy as np\n",
    "import seaborn as sns\n",
    "import matplotlib.pyplot as plt\n"
   ]
  },
  {
   "cell_type": "code",
   "execution_count": 59,
   "metadata": {},
   "outputs": [],
   "source": [
    "\n",
    "# * Instalamos la librería para el trabajo de este móduo\n",
    "\n",
    "# pip install scikit-learn\n"
   ]
  },
  {
   "cell_type": "code",
   "execution_count": 60,
   "metadata": {},
   "outputs": [],
   "source": [
    "\n",
    "# * Importamos la librería y el modelo que queremos usar\n",
    "\n",
    "from sklearn.neighbors import KNeighborsClassifier\n"
   ]
  },
  {
   "cell_type": "code",
   "execution_count": 61,
   "metadata": {},
   "outputs": [
    {
     "data": {
      "text/html": [
       "<div>\n",
       "<style scoped>\n",
       "    .dataframe tbody tr th:only-of-type {\n",
       "        vertical-align: middle;\n",
       "    }\n",
       "\n",
       "    .dataframe tbody tr th {\n",
       "        vertical-align: top;\n",
       "    }\n",
       "\n",
       "    .dataframe thead th {\n",
       "        text-align: right;\n",
       "    }\n",
       "</style>\n",
       "<table border=\"1\" class=\"dataframe\">\n",
       "  <thead>\n",
       "    <tr style=\"text-align: right;\">\n",
       "      <th></th>\n",
       "      <th>año</th>\n",
       "      <th>conglome</th>\n",
       "      <th>vivienda</th>\n",
       "      <th>hogar</th>\n",
       "      <th>codperso</th>\n",
       "      <th>ubigeo</th>\n",
       "      <th>male</th>\n",
       "      <th>edad</th>\n",
       "      <th>casado</th>\n",
       "      <th>educacion</th>\n",
       "      <th>...</th>\n",
       "      <th>tamaño_empresa</th>\n",
       "      <th>formalidad</th>\n",
       "      <th>ingresos_mensuales</th>\n",
       "      <th>iddep</th>\n",
       "      <th>agua_potable</th>\n",
       "      <th>electricidad</th>\n",
       "      <th>telefono</th>\n",
       "      <th>celular</th>\n",
       "      <th>tv</th>\n",
       "      <th>internet</th>\n",
       "    </tr>\n",
       "  </thead>\n",
       "  <tbody>\n",
       "    <tr>\n",
       "      <th>0</th>\n",
       "      <td>2018</td>\n",
       "      <td>5002</td>\n",
       "      <td>34</td>\n",
       "      <td>11</td>\n",
       "      <td>1</td>\n",
       "      <td>10101</td>\n",
       "      <td>0.0</td>\n",
       "      <td>49.0</td>\n",
       "      <td>0.0</td>\n",
       "      <td>2.0</td>\n",
       "      <td>...</td>\n",
       "      <td>4.0</td>\n",
       "      <td>1.0</td>\n",
       "      <td>878.532516</td>\n",
       "      <td>Amazonas</td>\n",
       "      <td>1.0</td>\n",
       "      <td>1.0</td>\n",
       "      <td>0.0</td>\n",
       "      <td>1.0</td>\n",
       "      <td>1.0</td>\n",
       "      <td>1.0</td>\n",
       "    </tr>\n",
       "    <tr>\n",
       "      <th>1</th>\n",
       "      <td>2018</td>\n",
       "      <td>5002</td>\n",
       "      <td>34</td>\n",
       "      <td>11</td>\n",
       "      <td>2</td>\n",
       "      <td>10101</td>\n",
       "      <td>0.0</td>\n",
       "      <td>22.0</td>\n",
       "      <td>0.0</td>\n",
       "      <td>2.0</td>\n",
       "      <td>...</td>\n",
       "      <td>2.0</td>\n",
       "      <td>1.0</td>\n",
       "      <td>1033.537623</td>\n",
       "      <td>Amazonas</td>\n",
       "      <td>1.0</td>\n",
       "      <td>1.0</td>\n",
       "      <td>0.0</td>\n",
       "      <td>1.0</td>\n",
       "      <td>1.0</td>\n",
       "      <td>1.0</td>\n",
       "    </tr>\n",
       "    <tr>\n",
       "      <th>2</th>\n",
       "      <td>2018</td>\n",
       "      <td>5002</td>\n",
       "      <td>34</td>\n",
       "      <td>11</td>\n",
       "      <td>3</td>\n",
       "      <td>10101</td>\n",
       "      <td>0.0</td>\n",
       "      <td>21.0</td>\n",
       "      <td>0.0</td>\n",
       "      <td>2.0</td>\n",
       "      <td>...</td>\n",
       "      <td>1.0</td>\n",
       "      <td>0.0</td>\n",
       "      <td>516.768812</td>\n",
       "      <td>Amazonas</td>\n",
       "      <td>1.0</td>\n",
       "      <td>1.0</td>\n",
       "      <td>0.0</td>\n",
       "      <td>1.0</td>\n",
       "      <td>1.0</td>\n",
       "      <td>1.0</td>\n",
       "    </tr>\n",
       "    <tr>\n",
       "      <th>5</th>\n",
       "      <td>2018</td>\n",
       "      <td>5002</td>\n",
       "      <td>83</td>\n",
       "      <td>11</td>\n",
       "      <td>1</td>\n",
       "      <td>10101</td>\n",
       "      <td>1.0</td>\n",
       "      <td>60.0</td>\n",
       "      <td>1.0</td>\n",
       "      <td>1.0</td>\n",
       "      <td>...</td>\n",
       "      <td>1.0</td>\n",
       "      <td>1.0</td>\n",
       "      <td>1446.969697</td>\n",
       "      <td>Amazonas</td>\n",
       "      <td>1.0</td>\n",
       "      <td>1.0</td>\n",
       "      <td>0.0</td>\n",
       "      <td>1.0</td>\n",
       "      <td>1.0</td>\n",
       "      <td>0.0</td>\n",
       "    </tr>\n",
       "    <tr>\n",
       "      <th>6</th>\n",
       "      <td>2018</td>\n",
       "      <td>5002</td>\n",
       "      <td>83</td>\n",
       "      <td>11</td>\n",
       "      <td>2</td>\n",
       "      <td>10101</td>\n",
       "      <td>0.0</td>\n",
       "      <td>58.0</td>\n",
       "      <td>1.0</td>\n",
       "      <td>1.0</td>\n",
       "      <td>...</td>\n",
       "      <td>1.0</td>\n",
       "      <td>0.0</td>\n",
       "      <td>155.005107</td>\n",
       "      <td>Amazonas</td>\n",
       "      <td>1.0</td>\n",
       "      <td>1.0</td>\n",
       "      <td>0.0</td>\n",
       "      <td>1.0</td>\n",
       "      <td>1.0</td>\n",
       "      <td>0.0</td>\n",
       "    </tr>\n",
       "  </tbody>\n",
       "</table>\n",
       "<p>5 rows × 26 columns</p>\n",
       "</div>"
      ],
      "text/plain": [
       "    año  conglome  vivienda  hogar  codperso  ubigeo  male  edad  casado  \\\n",
       "0  2018      5002        34     11         1   10101   0.0  49.0     0.0   \n",
       "1  2018      5002        34     11         2   10101   0.0  22.0     0.0   \n",
       "2  2018      5002        34     11         3   10101   0.0  21.0     0.0   \n",
       "5  2018      5002        83     11         1   10101   1.0  60.0     1.0   \n",
       "6  2018      5002        83     11         2   10101   0.0  58.0     1.0   \n",
       "\n",
       "   educacion  ...  tamaño_empresa  formalidad  ingresos_mensuales     iddep  \\\n",
       "0        2.0  ...             4.0         1.0          878.532516  Amazonas   \n",
       "1        2.0  ...             2.0         1.0         1033.537623  Amazonas   \n",
       "2        2.0  ...             1.0         0.0          516.768812  Amazonas   \n",
       "5        1.0  ...             1.0         1.0         1446.969697  Amazonas   \n",
       "6        1.0  ...             1.0         0.0          155.005107  Amazonas   \n",
       "\n",
       "   agua_potable  electricidad  telefono  celular   tv internet  \n",
       "0           1.0           1.0       0.0      1.0  1.0      1.0  \n",
       "1           1.0           1.0       0.0      1.0  1.0      1.0  \n",
       "2           1.0           1.0       0.0      1.0  1.0      1.0  \n",
       "5           1.0           1.0       0.0      1.0  1.0      0.0  \n",
       "6           1.0           1.0       0.0      1.0  1.0      0.0  \n",
       "\n",
       "[5 rows x 26 columns]"
      ]
     },
     "metadata": {},
     "output_type": "display_data"
    },
    {
     "data": {
      "text/html": [
       "<div>\n",
       "<style scoped>\n",
       "    .dataframe tbody tr th:only-of-type {\n",
       "        vertical-align: middle;\n",
       "    }\n",
       "\n",
       "    .dataframe tbody tr th {\n",
       "        vertical-align: top;\n",
       "    }\n",
       "\n",
       "    .dataframe thead th {\n",
       "        text-align: right;\n",
       "    }\n",
       "</style>\n",
       "<table border=\"1\" class=\"dataframe\">\n",
       "  <thead>\n",
       "    <tr style=\"text-align: right;\">\n",
       "      <th></th>\n",
       "      <th>año</th>\n",
       "      <th>conglome</th>\n",
       "      <th>vivienda</th>\n",
       "      <th>hogar</th>\n",
       "      <th>codperso</th>\n",
       "      <th>ubigeo</th>\n",
       "      <th>male</th>\n",
       "      <th>edad</th>\n",
       "      <th>casado</th>\n",
       "      <th>educacion</th>\n",
       "      <th>...</th>\n",
       "      <th>tamaño_empresa</th>\n",
       "      <th>formalidad</th>\n",
       "      <th>ingresos_mensuales</th>\n",
       "      <th>iddep</th>\n",
       "      <th>agua_potable</th>\n",
       "      <th>electricidad</th>\n",
       "      <th>telefono</th>\n",
       "      <th>celular</th>\n",
       "      <th>tv</th>\n",
       "      <th>internet</th>\n",
       "    </tr>\n",
       "  </thead>\n",
       "  <tbody>\n",
       "    <tr>\n",
       "      <th>128263</th>\n",
       "      <td>2019</td>\n",
       "      <td>11350</td>\n",
       "      <td>59</td>\n",
       "      <td>11</td>\n",
       "      <td>2</td>\n",
       "      <td>180101</td>\n",
       "      <td>1.0</td>\n",
       "      <td>29.0</td>\n",
       "      <td>0.0</td>\n",
       "      <td>3.0</td>\n",
       "      <td>...</td>\n",
       "      <td>3.0</td>\n",
       "      <td>1.0</td>\n",
       "      <td>2985.916667</td>\n",
       "      <td>Moquegua</td>\n",
       "      <td>1.0</td>\n",
       "      <td>1.0</td>\n",
       "      <td>0.0</td>\n",
       "      <td>1.0</td>\n",
       "      <td>0.0</td>\n",
       "      <td>0.0</td>\n",
       "    </tr>\n",
       "    <tr>\n",
       "      <th>128265</th>\n",
       "      <td>2019</td>\n",
       "      <td>11350</td>\n",
       "      <td>78</td>\n",
       "      <td>11</td>\n",
       "      <td>1</td>\n",
       "      <td>180101</td>\n",
       "      <td>0.0</td>\n",
       "      <td>28.0</td>\n",
       "      <td>0.0</td>\n",
       "      <td>2.0</td>\n",
       "      <td>...</td>\n",
       "      <td>4.0</td>\n",
       "      <td>0.0</td>\n",
       "      <td>497.666667</td>\n",
       "      <td>Moquegua</td>\n",
       "      <td>1.0</td>\n",
       "      <td>1.0</td>\n",
       "      <td>0.0</td>\n",
       "      <td>1.0</td>\n",
       "      <td>0.0</td>\n",
       "      <td>0.0</td>\n",
       "    </tr>\n",
       "    <tr>\n",
       "      <th>128268</th>\n",
       "      <td>2019</td>\n",
       "      <td>11350</td>\n",
       "      <td>97</td>\n",
       "      <td>11</td>\n",
       "      <td>1</td>\n",
       "      <td>180101</td>\n",
       "      <td>1.0</td>\n",
       "      <td>35.0</td>\n",
       "      <td>0.0</td>\n",
       "      <td>3.0</td>\n",
       "      <td>...</td>\n",
       "      <td>1.0</td>\n",
       "      <td>0.0</td>\n",
       "      <td>1292.916667</td>\n",
       "      <td>Moquegua</td>\n",
       "      <td>1.0</td>\n",
       "      <td>1.0</td>\n",
       "      <td>0.0</td>\n",
       "      <td>1.0</td>\n",
       "      <td>0.0</td>\n",
       "      <td>0.0</td>\n",
       "    </tr>\n",
       "    <tr>\n",
       "      <th>128273</th>\n",
       "      <td>2019</td>\n",
       "      <td>11350</td>\n",
       "      <td>116</td>\n",
       "      <td>11</td>\n",
       "      <td>1</td>\n",
       "      <td>180101</td>\n",
       "      <td>0.0</td>\n",
       "      <td>41.0</td>\n",
       "      <td>0.0</td>\n",
       "      <td>2.0</td>\n",
       "      <td>...</td>\n",
       "      <td>1.0</td>\n",
       "      <td>0.0</td>\n",
       "      <td>644.750000</td>\n",
       "      <td>Moquegua</td>\n",
       "      <td>1.0</td>\n",
       "      <td>1.0</td>\n",
       "      <td>0.0</td>\n",
       "      <td>1.0</td>\n",
       "      <td>0.0</td>\n",
       "      <td>1.0</td>\n",
       "    </tr>\n",
       "    <tr>\n",
       "      <th>128274</th>\n",
       "      <td>2019</td>\n",
       "      <td>11350</td>\n",
       "      <td>116</td>\n",
       "      <td>11</td>\n",
       "      <td>2</td>\n",
       "      <td>180101</td>\n",
       "      <td>1.0</td>\n",
       "      <td>22.0</td>\n",
       "      <td>0.0</td>\n",
       "      <td>2.0</td>\n",
       "      <td>...</td>\n",
       "      <td>1.0</td>\n",
       "      <td>0.0</td>\n",
       "      <td>1031.583333</td>\n",
       "      <td>Moquegua</td>\n",
       "      <td>1.0</td>\n",
       "      <td>1.0</td>\n",
       "      <td>0.0</td>\n",
       "      <td>1.0</td>\n",
       "      <td>0.0</td>\n",
       "      <td>1.0</td>\n",
       "    </tr>\n",
       "  </tbody>\n",
       "</table>\n",
       "<p>5 rows × 26 columns</p>\n",
       "</div>"
      ],
      "text/plain": [
       "         año  conglome  vivienda  hogar  codperso  ubigeo  male  edad  casado  \\\n",
       "128263  2019     11350        59     11         2  180101   1.0  29.0     0.0   \n",
       "128265  2019     11350        78     11         1  180101   0.0  28.0     0.0   \n",
       "128268  2019     11350        97     11         1  180101   1.0  35.0     0.0   \n",
       "128273  2019     11350       116     11         1  180101   0.0  41.0     0.0   \n",
       "128274  2019     11350       116     11         2  180101   1.0  22.0     0.0   \n",
       "\n",
       "        educacion  ...  tamaño_empresa  formalidad  ingresos_mensuales  \\\n",
       "128263        3.0  ...             3.0         1.0         2985.916667   \n",
       "128265        2.0  ...             4.0         0.0          497.666667   \n",
       "128268        3.0  ...             1.0         0.0         1292.916667   \n",
       "128273        2.0  ...             1.0         0.0          644.750000   \n",
       "128274        2.0  ...             1.0         0.0         1031.583333   \n",
       "\n",
       "           iddep  agua_potable  electricidad  telefono  celular   tv internet  \n",
       "128263  Moquegua           1.0           1.0       0.0      1.0  0.0      0.0  \n",
       "128265  Moquegua           1.0           1.0       0.0      1.0  0.0      0.0  \n",
       "128268  Moquegua           1.0           1.0       0.0      1.0  0.0      0.0  \n",
       "128273  Moquegua           1.0           1.0       0.0      1.0  0.0      1.0  \n",
       "128274  Moquegua           1.0           1.0       0.0      1.0  0.0      1.0  \n",
       "\n",
       "[5 rows x 26 columns]"
      ]
     },
     "metadata": {},
     "output_type": "display_data"
    },
    {
     "name": "stdout",
     "output_type": "stream",
     "text": [
      "<class 'pandas.core.frame.DataFrame'>\n",
      "Index: 52737 entries, 0 to 128274\n",
      "Data columns (total 26 columns):\n",
      " #   Column              Non-Null Count  Dtype  \n",
      "---  ------              --------------  -----  \n",
      " 0   año                 52737 non-null  int64  \n",
      " 1   conglome            52737 non-null  int64  \n",
      " 2   vivienda            52737 non-null  int64  \n",
      " 3   hogar               52737 non-null  int64  \n",
      " 4   codperso            52737 non-null  int64  \n",
      " 5   ubigeo              52737 non-null  int64  \n",
      " 6   male                52737 non-null  float64\n",
      " 7   edad                52737 non-null  float64\n",
      " 8   casado              52737 non-null  float64\n",
      " 9   educacion           52737 non-null  float64\n",
      " 10  enfermedad_cronica  52737 non-null  float64\n",
      " 11  seguro_essalud      52737 non-null  float64\n",
      " 12  seguro_privado      52737 non-null  float64\n",
      " 13  seguro_eps          52737 non-null  float64\n",
      " 14  seguro_policial     52737 non-null  float64\n",
      " 15  seguro_sis          52737 non-null  float64\n",
      " 16  tamaño_empresa      52737 non-null  float64\n",
      " 17  formalidad          52737 non-null  float64\n",
      " 18  ingresos_mensuales  52737 non-null  float64\n",
      " 19  iddep               52737 non-null  object \n",
      " 20  agua_potable        52737 non-null  float64\n",
      " 21  electricidad        52737 non-null  float64\n",
      " 22  telefono            52737 non-null  float64\n",
      " 23  celular             52737 non-null  float64\n",
      " 24  tv                  52737 non-null  float64\n",
      " 25  internet            52737 non-null  float64\n",
      "dtypes: float64(19), int64(6), object(1)\n",
      "memory usage: 10.9+ MB\n"
     ]
    },
    {
     "data": {
      "text/plain": [
       "None"
      ]
     },
     "metadata": {},
     "output_type": "display_data"
    },
    {
     "data": {
      "text/plain": [
       "Index(['año', 'conglome', 'vivienda', 'hogar', 'codperso', 'ubigeo', 'male',\n",
       "       'edad', 'casado', 'educacion', 'enfermedad_cronica', 'seguro_essalud',\n",
       "       'seguro_privado', 'seguro_eps', 'seguro_policial', 'seguro_sis',\n",
       "       'tamaño_empresa', 'formalidad', 'ingresos_mensuales', 'iddep',\n",
       "       'agua_potable', 'electricidad', 'telefono', 'celular', 'tv',\n",
       "       'internet'],\n",
       "      dtype='object')"
      ]
     },
     "metadata": {},
     "output_type": "display_data"
    },
    {
     "data": {
      "text/plain": [
       "(52737, 26)"
      ]
     },
     "metadata": {},
     "output_type": "display_data"
    }
   ],
   "source": [
    "\n",
    "# * Lectura de la base de datos (es recomendable realizar un EDA)\n",
    "\n",
    "enaho = pd.read_parquet('../data/final/enaho_procesada.parquet')\n",
    "\n",
    "display(enaho.head())\n",
    "display(enaho.tail())\n",
    "display(enaho.info())\n",
    "display(enaho.columns)\n",
    "display(enaho.shape)"
   ]
  },
  {
   "cell_type": "code",
   "execution_count": 62,
   "metadata": {},
   "outputs": [
    {
     "data": {
      "text/plain": [
       "Index(['conglome', 'vivienda', 'hogar', 'codperso', 'ubigeo', 'male', 'edad',\n",
       "       'casado', 'educacion', 'enfermedad_cronica', 'seguro_essalud',\n",
       "       'seguro_privado', 'seguro_eps', 'seguro_policial', 'seguro_sis',\n",
       "       'tamaño_empresa', 'formalidad', 'ingresos_mensuales', 'agua_potable',\n",
       "       'electricidad', 'telefono', 'celular', 'tv', 'internet',\n",
       "       'iddep_Amazonas', 'iddep_Ancash', 'iddep_Apurimac', 'iddep_Arequipa',\n",
       "       'iddep_Ayacucho', 'iddep_Cajamarca', 'iddep_Callao', 'iddep_Cusco',\n",
       "       'iddep_Huancavelica', 'iddep_Huanuco', 'iddep_Ica', 'iddep_Junin',\n",
       "       'iddep_La Libertad', 'iddep_Lambayeque', 'iddep_Lima', 'iddep_Loreto',\n",
       "       'iddep_Madre de Dios', 'iddep_Moquegua', 'iddep_Pasco', 'iddep_Piura',\n",
       "       'iddep_Puno', 'iddep_San Martin', 'iddep_Tacna', 'iddep_Tumbes',\n",
       "       'iddep_Ucayali', 'año_2018', 'año_2019'],\n",
       "      dtype='object')"
      ]
     },
     "execution_count": 62,
     "metadata": {},
     "output_type": "execute_result"
    }
   ],
   "source": [
    "enaho = pd.get_dummies(enaho, columns=['iddep'], prefix=['iddep'], dtype=int)\n",
    "enaho = pd.get_dummies(enaho, columns=['año'], prefix=['año'], dtype=int)\n",
    "\n",
    "enaho.columns"
   ]
  },
  {
   "cell_type": "markdown",
   "metadata": {},
   "source": [
    "Como se observa anteriormente, tenemos 768 filas y 9 columnas. Las primeras 8 columnas representan las características y la última columna representa el objetivo/etiqueta."
   ]
  },
  {
   "cell_type": "code",
   "execution_count": 63,
   "metadata": {},
   "outputs": [
    {
     "name": "stdout",
     "output_type": "stream",
     "text": [
      "(52737, 45) (52737, 1)\n"
     ]
    }
   ],
   "source": [
    "\n",
    "# * Definimos los inputs\n",
    "\n",
    "X = enaho[['male', 'edad',\n",
    "       'casado', 'educacion', 'enfermedad_cronica', 'seguro_essalud',\n",
    "       'seguro_privado', 'seguro_eps', 'seguro_policial', 'seguro_sis',\n",
    "       'tamaño_empresa', 'ingresos_mensuales', 'agua_potable',\n",
    "       'electricidad', 'telefono', 'celular', 'tv', 'internet',\n",
    "       'iddep_Amazonas', 'iddep_Ancash', 'iddep_Apurimac', 'iddep_Arequipa',\n",
    "       'iddep_Ayacucho', 'iddep_Cajamarca', 'iddep_Callao', 'iddep_Cusco',\n",
    "       'iddep_Huancavelica', 'iddep_Huanuco', 'iddep_Ica', 'iddep_Junin',\n",
    "       'iddep_La Libertad', 'iddep_Lambayeque', 'iddep_Lima', 'iddep_Loreto',\n",
    "       'iddep_Madre de Dios', 'iddep_Moquegua', 'iddep_Pasco', 'iddep_Piura',\n",
    "       'iddep_Puno', 'iddep_San Martin', 'iddep_Tacna', 'iddep_Tumbes',\n",
    "       'iddep_Ucayali', 'año_2018', 'año_2019']]\n",
    "\n",
    "y = enaho[['formalidad']]\n",
    "\n",
    "print(X.shape, y.shape)"
   ]
  },
  {
   "cell_type": "code",
   "execution_count": 64,
   "metadata": {},
   "outputs": [
    {
     "data": {
      "text/plain": [
       "formalidad\n",
       "0.0    31362\n",
       "1.0    21375\n",
       "Name: count, dtype: int64"
      ]
     },
     "execution_count": 64,
     "metadata": {},
     "output_type": "execute_result"
    }
   ],
   "source": [
    "enaho.formalidad.value_counts()"
   ]
  },
  {
   "cell_type": "markdown",
   "metadata": {},
   "source": [
    "Dividamos los datos aleatoriamente en conjuntos de entrenamiento y de prueba.\n",
    "\n",
    "Ajustaremos/entrenaremos un clasificador en el conjunto de entrenamiento y haremos predicciones en el conjunto de prueba. Luego compararemos las predicciones con las etiquetas conocidas.\n",
    "\n",
    "Scikit-learn proporciona la posibilidad de dividir datos en train y test utilizando el método train_test_split."
   ]
  },
  {
   "cell_type": "code",
   "execution_count": 65,
   "metadata": {},
   "outputs": [],
   "source": [
    "\n",
    "# * Importamos train_test_split\n",
    "# \n",
    "from sklearn.model_selection import train_test_split"
   ]
  },
  {
   "cell_type": "markdown",
   "metadata": {},
   "source": [
    "Es una buena práctica realizar nuestra división de tal manera que refleje las etiquetas de los datos. En otras palabras, queremos que las etiquetas se dividan en el conjunto de entrenamiento y prueba tal como están en el conjunto de datos original. Entonces usamos el argumento de estratificar.\n",
    "\n",
    "También creamos un conjunto de prueba de un tamaño de aproximadamente el 40% del conjunto de datos."
   ]
  },
  {
   "cell_type": "code",
   "execution_count": 66,
   "metadata": {},
   "outputs": [],
   "source": [
    "\n",
    "# * Separamos nuestra data de entrenamiento de nuestra data de testeo\n",
    "\n",
    "X_train,X_test,y_train,y_test = train_test_split(X, y, test_size=0.3, random_state=42) #, stratify=y)"
   ]
  },
  {
   "cell_type": "code",
   "execution_count": 68,
   "metadata": {},
   "outputs": [
    {
     "name": "stderr",
     "output_type": "stream",
     "text": [
      "c:\\Python\\Python39\\lib\\site-packages\\sklearn\\neighbors\\_classification.py:233: DataConversionWarning: A column-vector y was passed when a 1d array was expected. Please change the shape of y to (n_samples,), for example using ravel().\n",
      "  return self._fit(X, y)\n"
     ]
    },
    {
     "data": {
      "text/html": [
       "<style>#sk-container-id-3 {color: black;}#sk-container-id-3 pre{padding: 0;}#sk-container-id-3 div.sk-toggleable {background-color: white;}#sk-container-id-3 label.sk-toggleable__label {cursor: pointer;display: block;width: 100%;margin-bottom: 0;padding: 0.3em;box-sizing: border-box;text-align: center;}#sk-container-id-3 label.sk-toggleable__label-arrow:before {content: \"▸\";float: left;margin-right: 0.25em;color: #696969;}#sk-container-id-3 label.sk-toggleable__label-arrow:hover:before {color: black;}#sk-container-id-3 div.sk-estimator:hover label.sk-toggleable__label-arrow:before {color: black;}#sk-container-id-3 div.sk-toggleable__content {max-height: 0;max-width: 0;overflow: hidden;text-align: left;background-color: #f0f8ff;}#sk-container-id-3 div.sk-toggleable__content pre {margin: 0.2em;color: black;border-radius: 0.25em;background-color: #f0f8ff;}#sk-container-id-3 input.sk-toggleable__control:checked~div.sk-toggleable__content {max-height: 200px;max-width: 100%;overflow: auto;}#sk-container-id-3 input.sk-toggleable__control:checked~label.sk-toggleable__label-arrow:before {content: \"▾\";}#sk-container-id-3 div.sk-estimator input.sk-toggleable__control:checked~label.sk-toggleable__label {background-color: #d4ebff;}#sk-container-id-3 div.sk-label input.sk-toggleable__control:checked~label.sk-toggleable__label {background-color: #d4ebff;}#sk-container-id-3 input.sk-hidden--visually {border: 0;clip: rect(1px 1px 1px 1px);clip: rect(1px, 1px, 1px, 1px);height: 1px;margin: -1px;overflow: hidden;padding: 0;position: absolute;width: 1px;}#sk-container-id-3 div.sk-estimator {font-family: monospace;background-color: #f0f8ff;border: 1px dotted black;border-radius: 0.25em;box-sizing: border-box;margin-bottom: 0.5em;}#sk-container-id-3 div.sk-estimator:hover {background-color: #d4ebff;}#sk-container-id-3 div.sk-parallel-item::after {content: \"\";width: 100%;border-bottom: 1px solid gray;flex-grow: 1;}#sk-container-id-3 div.sk-label:hover label.sk-toggleable__label {background-color: #d4ebff;}#sk-container-id-3 div.sk-serial::before {content: \"\";position: absolute;border-left: 1px solid gray;box-sizing: border-box;top: 0;bottom: 0;left: 50%;z-index: 0;}#sk-container-id-3 div.sk-serial {display: flex;flex-direction: column;align-items: center;background-color: white;padding-right: 0.2em;padding-left: 0.2em;position: relative;}#sk-container-id-3 div.sk-item {position: relative;z-index: 1;}#sk-container-id-3 div.sk-parallel {display: flex;align-items: stretch;justify-content: center;background-color: white;position: relative;}#sk-container-id-3 div.sk-item::before, #sk-container-id-3 div.sk-parallel-item::before {content: \"\";position: absolute;border-left: 1px solid gray;box-sizing: border-box;top: 0;bottom: 0;left: 50%;z-index: -1;}#sk-container-id-3 div.sk-parallel-item {display: flex;flex-direction: column;z-index: 1;position: relative;background-color: white;}#sk-container-id-3 div.sk-parallel-item:first-child::after {align-self: flex-end;width: 50%;}#sk-container-id-3 div.sk-parallel-item:last-child::after {align-self: flex-start;width: 50%;}#sk-container-id-3 div.sk-parallel-item:only-child::after {width: 0;}#sk-container-id-3 div.sk-dashed-wrapped {border: 1px dashed gray;margin: 0 0.4em 0.5em 0.4em;box-sizing: border-box;padding-bottom: 0.4em;background-color: white;}#sk-container-id-3 div.sk-label label {font-family: monospace;font-weight: bold;display: inline-block;line-height: 1.2em;}#sk-container-id-3 div.sk-label-container {text-align: center;}#sk-container-id-3 div.sk-container {/* jupyter's `normalize.less` sets `[hidden] { display: none; }` but bootstrap.min.css set `[hidden] { display: none !important; }` so we also need the `!important` here to be able to override the default hidden behavior on the sphinx rendered scikit-learn.org. See: https://github.com/scikit-learn/scikit-learn/issues/21755 */display: inline-block !important;position: relative;}#sk-container-id-3 div.sk-text-repr-fallback {display: none;}</style><div id=\"sk-container-id-3\" class=\"sk-top-container\"><div class=\"sk-text-repr-fallback\"><pre>KNeighborsClassifier(n_neighbors=15)</pre><b>In a Jupyter environment, please rerun this cell to show the HTML representation or trust the notebook. <br />On GitHub, the HTML representation is unable to render, please try loading this page with nbviewer.org.</b></div><div class=\"sk-container\" hidden><div class=\"sk-item\"><div class=\"sk-estimator sk-toggleable\"><input class=\"sk-toggleable__control sk-hidden--visually\" id=\"sk-estimator-id-3\" type=\"checkbox\" checked><label for=\"sk-estimator-id-3\" class=\"sk-toggleable__label sk-toggleable__label-arrow\">KNeighborsClassifier</label><div class=\"sk-toggleable__content\"><pre>KNeighborsClassifier(n_neighbors=15)</pre></div></div></div></div></div>"
      ],
      "text/plain": [
       "KNeighborsClassifier(n_neighbors=15)"
      ]
     },
     "execution_count": 68,
     "metadata": {},
     "output_type": "execute_result"
    }
   ],
   "source": [
    "\n",
    "# * Seteamos la configuración de nuestro modelo\n",
    "\n",
    "knn = KNeighborsClassifier(n_neighbors=15)\n",
    "knn.fit(X_train, y_train)"
   ]
  },
  {
   "cell_type": "markdown",
   "metadata": {},
   "source": [
    "#### **Matriz de confusión**"
   ]
  },
  {
   "cell_type": "markdown",
   "metadata": {},
   "source": [
    "Una matriz de confusión es una tabla que se utiliza a menudo para describir el rendimiento de un modelo de clasificación (o \"clasificador\") en un conjunto de datos de prueba cuyos valores verdaderos se conocen. Scikit-learn proporciona la posibilidad de calcular la matriz de confusión utilizando el método confusion_matrix."
   ]
  },
  {
   "cell_type": "markdown",
   "metadata": {},
   "source": [
    "Supongamos que estamos clasificando operaciones fraudulentas de un banco. Nuestra matriz de confusión quedaría de la siguiente manera:\n",
    "\n",
    "| |Predicho: legítimo| Predicho: fraudulento|\n",
    "|-|------------------|-------------------------|\n",
    "Actual: legítimo | Verdadero negativo | Falso positivo |\n",
    "Actual: fraudulento | Falso negativo | Verdadero positivo |"
   ]
  },
  {
   "cell_type": "markdown",
   "metadata": {},
   "source": [
    "Y las métricas que podemos calcular son las siguientes:\n",
    "\n",
    "- $accuracy: \\frac{VP+VN}{VP+VN+FP+FN}$\n",
    "\n",
    "El accuracy (exactitud) es una métrica de evaluación comúnmente utilizada en problemas de clasificación y se refiere a la proporción de predicciones correctas que un modelo ha realizado sobre el conjunto total de predicciones.\n",
    "\n",
    "- $precision: \\frac{VP}{VP + FP}$\n",
    "\n",
    "Mide la proporción de instancias positivas reales que el modelo identifica correctamente. Es útil cuando es importante identificar la mayoría de los casos positivos, incluso a costa de algunos falsos positivos.\n",
    "\n",
    "- $recall (sensibilidad): \\frac{VP}{VP + FN}$\n",
    "\n",
    "Mide la proporción de instancias positivas predichas por el modelo que son realmente positivas. Es útil cuando es crucial que las predicciones positivas sean altamente confiables y los falsos positivos son costosos o no deseados.\n",
    "\n",
    "- $F1-score: 2* \\frac{precision * recall}{precision + recall}$\n",
    "\n",
    "El F1-score es una métrica de evaluación del rendimiento de un modelo de clasificación que combina la precisión y la exhaustividad (recall) en un solo número. Se utiliza comúnmente en problemas de clasificación binaria y es especialmente útil cuando tienes un conjunto de datos desbalanceado (es decir, una clase tiene muchas más muestras que la otra). A menudo, se considera que un F1-score cercano a 1.0 es excelente, mientras que un F1-score cercano a 0.0 indica un rendimiento deficiente."
   ]
  },
  {
   "cell_type": "code",
   "execution_count": 16,
   "metadata": {},
   "outputs": [],
   "source": [
    "\n",
    "# * Importamos confusion_matrix\n",
    "\n",
    "from sklearn.metrics import confusion_matrix"
   ]
  },
  {
   "cell_type": "code",
   "execution_count": 17,
   "metadata": {},
   "outputs": [],
   "source": [
    "\n",
    "# * obtengamos las predicciones usando el clasificador que ajustamos arriba\n",
    "\n",
    "y_pred = knn.predict(X_test)"
   ]
  },
  {
   "cell_type": "code",
   "execution_count": 78,
   "metadata": {},
   "outputs": [
    {
     "data": {
      "text/plain": [
       "array([[8761,  643],\n",
       "       [ 168, 6250]], dtype=int64)"
      ]
     },
     "execution_count": 78,
     "metadata": {},
     "output_type": "execute_result"
    }
   ],
   "source": [
    "confusion_matrix(y_test,y_pred)"
   ]
  },
  {
   "cell_type": "markdown",
   "metadata": {},
   "source": [
    "Considerando la matriz de confusión anterior:\n",
    "\n",
    "Verdadero negativo = XX\n",
    "\n",
    "Falso positivo = XX\n",
    "\n",
    "Verdadero positivo = XX\n",
    "\n",
    "Fasla negativa = XX"
   ]
  },
  {
   "cell_type": "code",
   "execution_count": 19,
   "metadata": {},
   "outputs": [
    {
     "data": {
      "text/html": [
       "<div>\n",
       "<style scoped>\n",
       "    .dataframe tbody tr th:only-of-type {\n",
       "        vertical-align: middle;\n",
       "    }\n",
       "\n",
       "    .dataframe tbody tr th {\n",
       "        vertical-align: top;\n",
       "    }\n",
       "\n",
       "    .dataframe thead th {\n",
       "        text-align: right;\n",
       "    }\n",
       "</style>\n",
       "<table border=\"1\" class=\"dataframe\">\n",
       "  <thead>\n",
       "    <tr style=\"text-align: right;\">\n",
       "      <th>Predicted</th>\n",
       "      <th>0</th>\n",
       "      <th>1</th>\n",
       "      <th>All</th>\n",
       "    </tr>\n",
       "    <tr>\n",
       "      <th>True</th>\n",
       "      <th></th>\n",
       "      <th></th>\n",
       "      <th></th>\n",
       "    </tr>\n",
       "  </thead>\n",
       "  <tbody>\n",
       "    <tr>\n",
       "      <th>0</th>\n",
       "      <td>114</td>\n",
       "      <td>37</td>\n",
       "      <td>151</td>\n",
       "    </tr>\n",
       "    <tr>\n",
       "      <th>1</th>\n",
       "      <td>34</td>\n",
       "      <td>46</td>\n",
       "      <td>80</td>\n",
       "    </tr>\n",
       "    <tr>\n",
       "      <th>All</th>\n",
       "      <td>148</td>\n",
       "      <td>83</td>\n",
       "      <td>231</td>\n",
       "    </tr>\n",
       "  </tbody>\n",
       "</table>\n",
       "</div>"
      ],
      "text/plain": [
       "Predicted    0   1  All\n",
       "True                   \n",
       "0          114  37  151\n",
       "1           34  46   80\n",
       "All        148  83  231"
      ]
     },
     "execution_count": 19,
     "metadata": {},
     "output_type": "execute_result"
    }
   ],
   "source": [
    "pd.crosstab(y_test, y_pred, rownames=['True'], colnames=['Predicted'], margins=True)"
   ]
  },
  {
   "cell_type": "markdown",
   "metadata": {},
   "source": [
    "#### **Reporte de clasificación**"
   ]
  },
  {
   "cell_type": "markdown",
   "metadata": {},
   "source": [
    "Otro informe importante es el informe de Clasificación. Es un resumen de texto de la precisión, recuperación y puntuación F1 de cada clase. Scikit-learn proporciona la posibilidad de calcular el informe de clasificación utilizando el método Classification_report."
   ]
  },
  {
   "cell_type": "code",
   "execution_count": 79,
   "metadata": {},
   "outputs": [],
   "source": [
    "\n",
    "# * import classification_report\n",
    "\n",
    "from sklearn.metrics import classification_report"
   ]
  },
  {
   "cell_type": "code",
   "execution_count": 80,
   "metadata": {},
   "outputs": [
    {
     "name": "stdout",
     "output_type": "stream",
     "text": [
      "              precision    recall  f1-score   support\n",
      "\n",
      "         0.0       0.98      0.93      0.96      9404\n",
      "         1.0       0.91      0.97      0.94      6418\n",
      "\n",
      "    accuracy                           0.95     15822\n",
      "   macro avg       0.94      0.95      0.95     15822\n",
      "weighted avg       0.95      0.95      0.95     15822\n",
      "\n"
     ]
    }
   ],
   "source": [
    "print(classification_report(y_test,y_pred))"
   ]
  },
  {
   "cell_type": "markdown",
   "metadata": {},
   "source": [
    "#### **ROC (Reciever Operating Charecteristic) curve**"
   ]
  },
  {
   "cell_type": "markdown",
   "metadata": {},
   "source": [
    "Es un gráfico de la tasa de verdaderos positivos frente a la tasa de falsos positivos para los diferentes puntos de corte posibles de una prueba de diagnóstico.\n",
    "\n",
    "Una curva ROC demuestra varias cosas:\n",
    "\n",
    "1) Muestra el equilibrio entre sensibilidad y especificidad (cualquier aumento de la sensibilidad irá acompañado de una disminución de la especificidad).\n",
    "\n",
    "2) Cuanto más cerca siga la curva del borde izquierdo y luego del borde superior del espacio ROC, más precisa será la prueba.\n",
    "\n",
    "3) Cuanto más se acerque la curva a la diagonal de 45 grados del espacio ROC, menos precisa será la prueba.\n",
    "\n",
    "4) El área bajo la curva es una medida de la precisión de la prueba."
   ]
  },
  {
   "cell_type": "code",
   "execution_count": 81,
   "metadata": {},
   "outputs": [],
   "source": [
    "y_pred_proba = knn.predict_proba(X_test)[:,1]"
   ]
  },
  {
   "cell_type": "code",
   "execution_count": 82,
   "metadata": {},
   "outputs": [],
   "source": [
    "from sklearn.metrics import roc_curve"
   ]
  },
  {
   "cell_type": "code",
   "execution_count": 83,
   "metadata": {},
   "outputs": [],
   "source": [
    "fpr, tpr, thresholds = roc_curve(y_test, y_pred_proba)"
   ]
  },
  {
   "cell_type": "code",
   "execution_count": 84,
   "metadata": {},
   "outputs": [
    {
     "data": {
      "image/png": "[encoded data removed]",
      "text/plain": [
       "<Figure size 640x480 with 1 Axes>"
      ]
     },
     "metadata": {},
     "output_type": "display_data"
    }
   ],
   "source": [
    "\n",
    "# * CURVA ROC\n",
    "\n",
    "plt.plot([0,1],[0,1],'k--')\n",
    "plt.plot(fpr,tpr, label='Knn')\n",
    "plt.xlabel('Ratio de falsos positivos (RFP)')\n",
    "plt.ylabel('Ratio de verdaderos positivos (TPR)')\n",
    "plt.title('Knn(n_neighbors=7) ROC curve')\n",
    "plt.show()"
   ]
  },
  {
   "cell_type": "code",
   "execution_count": 85,
   "metadata": {},
   "outputs": [
    {
     "data": {
      "text/plain": [
       "0.9058917397753738"
      ]
     },
     "execution_count": 85,
     "metadata": {},
     "output_type": "execute_result"
    }
   ],
   "source": [
    "\n",
    "# * Area under ROC curve (ROC AUC)\n",
    "\n",
    "from sklearn.metrics import roc_auc_score\n",
    "roc_auc_score(y_test,y_pred_proba)"
   ]
  },
  {
   "cell_type": "code",
   "execution_count": 86,
   "metadata": {},
   "outputs": [
    {
     "name": "stdout",
     "output_type": "stream",
     "text": [
      "Métricas en conjunto de entrenamiento:\n",
      "Accuracy: 0.855532981172965\n",
      "Precision: 0.8069269039418293\n",
      "Recall: 0.8458246974660694\n",
      "F1 Score: 0.8259180675697732\n",
      "Matriz de Confusión:\n",
      " [[18931  3027]\n",
      " [ 2306 12651]]\n",
      "\n",
      "Métricas en conjunto de prueba:\n",
      "Accuracy: 0.8337125521425863\n",
      "Precision: 0.7799792991276061\n",
      "Recall: 0.8219071361794952\n",
      "F1 Score: 0.8003945072452772\n",
      "Matriz de Confusión:\n",
      " [[7916 1488]\n",
      " [1143 5275]]\n"
     ]
    }
   ],
   "source": [
    "from sklearn.metrics import accuracy_score, precision_score, recall_score, f1_score, confusion_matrix\n",
    "\n",
    "# Suponiendo que 'knn' es tu modelo ya entrenado y tienes los conjuntos de entrenamiento y prueba 'X_train', 'X_test', 'y_train', 'y_test'\n",
    "\n",
    "# Predicciones en conjunto de entrenamiento\n",
    "y_train_pred = knn.predict(X_train)\n",
    "\n",
    "# Predicciones en conjunto de prueba\n",
    "y_test_pred = knn.predict(X_test)\n",
    "\n",
    "# Métricas en conjunto de entrenamiento\n",
    "train_accuracy = accuracy_score(y_train, y_train_pred)\n",
    "train_precision = precision_score(y_train, y_train_pred)\n",
    "train_recall = recall_score(y_train, y_train_pred)\n",
    "train_f1 = f1_score(y_train, y_train_pred)\n",
    "train_conf_matrix = confusion_matrix(y_train, y_train_pred)\n",
    "\n",
    "# Métricas en conjunto de prueba\n",
    "test_accuracy = accuracy_score(y_test, y_test_pred)\n",
    "test_precision = precision_score(y_test, y_test_pred)\n",
    "test_recall = recall_score(y_test, y_test_pred)\n",
    "test_f1 = f1_score(y_test, y_test_pred)\n",
    "test_conf_matrix = confusion_matrix(y_test, y_test_pred)\n",
    "\n",
    "# Imprimir métricas\n",
    "print(\"Métricas en conjunto de entrenamiento:\")\n",
    "print(\"Accuracy:\", train_accuracy)\n",
    "print(\"Precision:\", train_precision)\n",
    "print(\"Recall:\", train_recall)\n",
    "print(\"F1 Score:\", train_f1)\n",
    "print(\"Matriz de Confusión:\\n\", train_conf_matrix)\n",
    "\n",
    "print(\"\\nMétricas en conjunto de prueba:\")\n",
    "print(\"Accuracy:\", test_accuracy)\n",
    "print(\"Precision:\", test_precision)\n",
    "print(\"Recall:\", test_recall)\n",
    "print(\"F1 Score:\", test_f1)\n",
    "print(\"Matriz de Confusión:\\n\", test_conf_matrix)\n"
   ]
  },
  {
   "cell_type": "markdown",
   "metadata": {},
   "source": [
    "Podemos encapsular todo en una función"
   ]
  },
  {
   "cell_type": "code",
   "execution_count": 76,
   "metadata": {},
   "outputs": [],
   "source": [
    "from sklearn.metrics import accuracy_score, precision_score, recall_score, f1_score, confusion_matrix\n",
    "\n",
    "def evaluar_modelo(modelo, X_train, y_train, X_test, y_test):\n",
    "    # Entrenar el modelo\n",
    "    modelo.fit(X_train, y_train)\n",
    "\n",
    "    # Predicciones en conjunto de entrenamiento\n",
    "    y_train_pred = modelo.predict(X_train)\n",
    "\n",
    "    # Predicciones en conjunto de prueba\n",
    "    y_test_pred = modelo.predict(X_test)\n",
    "\n",
    "    # Métricas en conjunto de entrenamiento\n",
    "    train_accuracy = accuracy_score(y_train, y_train_pred)\n",
    "    train_precision = precision_score(y_train, y_train_pred)\n",
    "    train_recall = recall_score(y_train, y_train_pred)\n",
    "    train_f1 = f1_score(y_train, y_train_pred)\n",
    "    train_conf_matrix = confusion_matrix(y_train, y_train_pred)\n",
    "\n",
    "    # Métricas en conjunto de prueba\n",
    "    test_accuracy = accuracy_score(y_test, y_test_pred)\n",
    "    test_precision = precision_score(y_test, y_test_pred)\n",
    "    test_recall = recall_score(y_test, y_test_pred)\n",
    "    test_f1 = f1_score(y_test, y_test_pred)\n",
    "    test_conf_matrix = confusion_matrix(y_test, y_test_pred)\n",
    "\n",
    "    # Imprimir métricas\n",
    "    print(\"Métricas en conjunto de entrenamiento:\")\n",
    "    print(\"Accuracy:\", train_accuracy)\n",
    "    print(\"Precision:\", train_precision)\n",
    "    print(\"Recall:\", train_recall)\n",
    "    print(\"F1 Score:\", train_f1)\n",
    "    print(\"Matriz de Confusión:\\n\", train_conf_matrix)\n",
    "\n",
    "    print(\"\\nMétricas en conjunto de prueba:\")\n",
    "    print(\"Accuracy:\", test_accuracy)\n",
    "    print(\"Precision:\", test_precision)\n",
    "    print(\"Recall:\", test_recall)\n",
    "    print(\"F1 Score:\", test_f1)\n",
    "    print(\"Matriz de Confusión:\\n\", test_conf_matrix)\n"
   ]
  },
  {
   "cell_type": "code",
   "execution_count": 77,
   "metadata": {},
   "outputs": [
    {
     "name": "stderr",
     "output_type": "stream",
     "text": [
      "c:\\Python\\Python39\\lib\\site-packages\\sklearn\\neighbors\\_classification.py:233: DataConversionWarning: A column-vector y was passed when a 1d array was expected. Please change the shape of y to (n_samples,), for example using ravel().\n",
      "  return self._fit(X, y)\n"
     ]
    },
    {
     "name": "stdout",
     "output_type": "stream",
     "text": [
      "Métricas en conjunto de entrenamiento:\n",
      "Accuracy: 0.855532981172965\n",
      "Precision: 0.8069269039418293\n",
      "Recall: 0.8458246974660694\n",
      "F1 Score: 0.8259180675697732\n",
      "Matriz de Confusión:\n",
      " [[18931  3027]\n",
      " [ 2306 12651]]\n",
      "\n",
      "Métricas en conjunto de prueba:\n",
      "Accuracy: 0.8337125521425863\n",
      "Precision: 0.7799792991276061\n",
      "Recall: 0.8219071361794952\n",
      "F1 Score: 0.8003945072452772\n",
      "Matriz de Confusión:\n",
      " [[7916 1488]\n",
      " [1143 5275]]\n"
     ]
    }
   ],
   "source": [
    "# Uso de la función\n",
    "modelo_knn = KNeighborsClassifier(n_neighbors=15)\n",
    "evaluar_modelo(modelo_knn, X_train, y_train, X_test, y_test)"
   ]
  },
  {
   "cell_type": "markdown",
   "metadata": {},
   "source": [
    "### **Regresión logística**"
   ]
  },
  {
   "cell_type": "markdown",
   "metadata": {},
   "source": [
    "Podemos repetir el ejercicio previo, pero usando una regresión logística. Si es que la probabilidad es mayor a 0.5, la clasificación del individuo será igual a 1, mientras que si es menor a 0.5, la clasificación será 0."
   ]
  },
  {
   "cell_type": "code",
   "execution_count": 70,
   "metadata": {},
   "outputs": [],
   "source": [
    "from sklearn.linear_model import LogisticRegression"
   ]
  },
  {
   "cell_type": "code",
   "execution_count": 71,
   "metadata": {},
   "outputs": [],
   "source": [
    "\n",
    "# * Creamos el modelo\n",
    "\n",
    "logreg = LogisticRegression()\n"
   ]
  },
  {
   "cell_type": "code",
   "execution_count": 72,
   "metadata": {},
   "outputs": [],
   "source": [
    "\n",
    "# * Dividimos la data\n",
    "\n",
    "X_train, X_test, y_train, y_test = train_test_split(X, y, test_size=0.3, random_state=42)\n"
   ]
  },
  {
   "cell_type": "code",
   "execution_count": 73,
   "metadata": {},
   "outputs": [
    {
     "name": "stderr",
     "output_type": "stream",
     "text": [
      "c:\\Python\\Python39\\lib\\site-packages\\sklearn\\utils\\validation.py:1183: DataConversionWarning: A column-vector y was passed when a 1d array was expected. Please change the shape of y to (n_samples, ), for example using ravel().\n",
      "  y = column_or_1d(y, warn=True)\n",
      "c:\\Python\\Python39\\lib\\site-packages\\sklearn\\linear_model\\_logistic.py:460: ConvergenceWarning: lbfgs failed to converge (status=1):\n",
      "STOP: TOTAL NO. of ITERATIONS REACHED LIMIT.\n",
      "\n",
      "Increase the number of iterations (max_iter) or scale the data as shown in:\n",
      "    https://scikit-learn.org/stable/modules/preprocessing.html\n",
      "Please also refer to the documentation for alternative solver options:\n",
      "    https://scikit-learn.org/stable/modules/linear_model.html#logistic-regression\n",
      "  n_iter_i = _check_optimize_result(\n"
     ]
    },
    {
     "data": {
      "text/html": [
       "<style>#sk-container-id-4 {color: black;}#sk-container-id-4 pre{padding: 0;}#sk-container-id-4 div.sk-toggleable {background-color: white;}#sk-container-id-4 label.sk-toggleable__label {cursor: pointer;display: block;width: 100%;margin-bottom: 0;padding: 0.3em;box-sizing: border-box;text-align: center;}#sk-container-id-4 label.sk-toggleable__label-arrow:before {content: \"▸\";float: left;margin-right: 0.25em;color: #696969;}#sk-container-id-4 label.sk-toggleable__label-arrow:hover:before {color: black;}#sk-container-id-4 div.sk-estimator:hover label.sk-toggleable__label-arrow:before {color: black;}#sk-container-id-4 div.sk-toggleable__content {max-height: 0;max-width: 0;overflow: hidden;text-align: left;background-color: #f0f8ff;}#sk-container-id-4 div.sk-toggleable__content pre {margin: 0.2em;color: black;border-radius: 0.25em;background-color: #f0f8ff;}#sk-container-id-4 input.sk-toggleable__control:checked~div.sk-toggleable__content {max-height: 200px;max-width: 100%;overflow: auto;}#sk-container-id-4 input.sk-toggleable__control:checked~label.sk-toggleable__label-arrow:before {content: \"▾\";}#sk-container-id-4 div.sk-estimator input.sk-toggleable__control:checked~label.sk-toggleable__label {background-color: #d4ebff;}#sk-container-id-4 div.sk-label input.sk-toggleable__control:checked~label.sk-toggleable__label {background-color: #d4ebff;}#sk-container-id-4 input.sk-hidden--visually {border: 0;clip: rect(1px 1px 1px 1px);clip: rect(1px, 1px, 1px, 1px);height: 1px;margin: -1px;overflow: hidden;padding: 0;position: absolute;width: 1px;}#sk-container-id-4 div.sk-estimator {font-family: monospace;background-color: #f0f8ff;border: 1px dotted black;border-radius: 0.25em;box-sizing: border-box;margin-bottom: 0.5em;}#sk-container-id-4 div.sk-estimator:hover {background-color: #d4ebff;}#sk-container-id-4 div.sk-parallel-item::after {content: \"\";width: 100%;border-bottom: 1px solid gray;flex-grow: 1;}#sk-container-id-4 div.sk-label:hover label.sk-toggleable__label {background-color: #d4ebff;}#sk-container-id-4 div.sk-serial::before {content: \"\";position: absolute;border-left: 1px solid gray;box-sizing: border-box;top: 0;bottom: 0;left: 50%;z-index: 0;}#sk-container-id-4 div.sk-serial {display: flex;flex-direction: column;align-items: center;background-color: white;padding-right: 0.2em;padding-left: 0.2em;position: relative;}#sk-container-id-4 div.sk-item {position: relative;z-index: 1;}#sk-container-id-4 div.sk-parallel {display: flex;align-items: stretch;justify-content: center;background-color: white;position: relative;}#sk-container-id-4 div.sk-item::before, #sk-container-id-4 div.sk-parallel-item::before {content: \"\";position: absolute;border-left: 1px solid gray;box-sizing: border-box;top: 0;bottom: 0;left: 50%;z-index: -1;}#sk-container-id-4 div.sk-parallel-item {display: flex;flex-direction: column;z-index: 1;position: relative;background-color: white;}#sk-container-id-4 div.sk-parallel-item:first-child::after {align-self: flex-end;width: 50%;}#sk-container-id-4 div.sk-parallel-item:last-child::after {align-self: flex-start;width: 50%;}#sk-container-id-4 div.sk-parallel-item:only-child::after {width: 0;}#sk-container-id-4 div.sk-dashed-wrapped {border: 1px dashed gray;margin: 0 0.4em 0.5em 0.4em;box-sizing: border-box;padding-bottom: 0.4em;background-color: white;}#sk-container-id-4 div.sk-label label {font-family: monospace;font-weight: bold;display: inline-block;line-height: 1.2em;}#sk-container-id-4 div.sk-label-container {text-align: center;}#sk-container-id-4 div.sk-container {/* jupyter's `normalize.less` sets `[hidden] { display: none; }` but bootstrap.min.css set `[hidden] { display: none !important; }` so we also need the `!important` here to be able to override the default hidden behavior on the sphinx rendered scikit-learn.org. See: https://github.com/scikit-learn/scikit-learn/issues/21755 */display: inline-block !important;position: relative;}#sk-container-id-4 div.sk-text-repr-fallback {display: none;}</style><div id=\"sk-container-id-4\" class=\"sk-top-container\"><div class=\"sk-text-repr-fallback\"><pre>LogisticRegression()</pre><b>In a Jupyter environment, please rerun this cell to show the HTML representation or trust the notebook. <br />On GitHub, the HTML representation is unable to render, please try loading this page with nbviewer.org.</b></div><div class=\"sk-container\" hidden><div class=\"sk-item\"><div class=\"sk-estimator sk-toggleable\"><input class=\"sk-toggleable__control sk-hidden--visually\" id=\"sk-estimator-id-4\" type=\"checkbox\" checked><label for=\"sk-estimator-id-4\" class=\"sk-toggleable__label sk-toggleable__label-arrow\">LogisticRegression</label><div class=\"sk-toggleable__content\"><pre>LogisticRegression()</pre></div></div></div></div></div>"
      ],
      "text/plain": [
       "LogisticRegression()"
      ]
     },
     "execution_count": 73,
     "metadata": {},
     "output_type": "execute_result"
    }
   ],
   "source": [
    "\n",
    "# * Entrenamos el modelo\n",
    "\n",
    "logreg.fit(X_train, y_train)"
   ]
  },
  {
   "cell_type": "markdown",
   "metadata": {},
   "source": [
    "#### **Ahora te toca a ti**: Evalúa las métricas de performance de este modelo logístico y compáralas con las del modelo entrenado previamente."
   ]
  },
  {
   "cell_type": "code",
   "execution_count": null,
   "metadata": {},
   "outputs": [],
   "source": []
  }
 ],
 "metadata": {
  "kernelspec": {
   "display_name": "Python 3",
   "language": "python",
   "name": "python3"
  },
  "language_info": {
   "codemirror_mode": {
    "name": "ipython",
    "version": 3
   },
   "file_extension": ".py",
   "mimetype": "text/x-python",
   "name": "python",
   "nbconvert_exporter": "python",
   "pygments_lexer": "ipython3",
   "version": "3.9.13"
  },
  "orig_nbformat": 4
 },
 "nbformat": 4,
 "nbformat_minor": 2
}
